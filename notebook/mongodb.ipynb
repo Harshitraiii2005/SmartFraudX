{
 "cells": [
  {
   "cell_type": "code",
   "execution_count": 2,
   "id": "f144b030",
   "metadata": {},
   "outputs": [],
   "source": [
    "import pandas as pd\n",
    "import pymongo"
   ]
  },
  {
   "cell_type": "code",
   "execution_count": 3,
   "id": "6733c588",
   "metadata": {},
   "outputs": [
    {
     "data": {
      "text/html": [
       "<div>\n",
       "<style scoped>\n",
       "    .dataframe tbody tr th:only-of-type {\n",
       "        vertical-align: middle;\n",
       "    }\n",
       "\n",
       "    .dataframe tbody tr th {\n",
       "        vertical-align: top;\n",
       "    }\n",
       "\n",
       "    .dataframe thead th {\n",
       "        text-align: right;\n",
       "    }\n",
       "</style>\n",
       "<table border=\"1\" class=\"dataframe\">\n",
       "  <thead>\n",
       "    <tr style=\"text-align: right;\">\n",
       "      <th></th>\n",
       "      <th>TransactionID</th>\n",
       "      <th>CustomerID</th>\n",
       "      <th>TransactionTimestamp</th>\n",
       "      <th>Amount</th>\n",
       "      <th>Currency</th>\n",
       "      <th>MerchantCategory</th>\n",
       "      <th>TransactionType</th>\n",
       "      <th>CardPresent</th>\n",
       "      <th>HourOfDay</th>\n",
       "      <th>DayOfWeek</th>\n",
       "      <th>GeoLocation</th>\n",
       "      <th>DeviceType</th>\n",
       "      <th>IsInternational</th>\n",
       "      <th>CustomerTenureMonths</th>\n",
       "      <th>NumTransactionsLast24h</th>\n",
       "      <th>AvgTransactionAmount7d</th>\n",
       "      <th>IsNewDevice</th>\n",
       "      <th>IsFraud</th>\n",
       "    </tr>\n",
       "  </thead>\n",
       "  <tbody>\n",
       "    <tr>\n",
       "      <th>0</th>\n",
       "      <td>TX0000000</td>\n",
       "      <td>CUST3000</td>\n",
       "      <td>2025-04-23T19:10:22</td>\n",
       "      <td>95148.43</td>\n",
       "      <td>INR</td>\n",
       "      <td>Fuel</td>\n",
       "      <td>POS</td>\n",
       "      <td>True</td>\n",
       "      <td>19</td>\n",
       "      <td>Wednesday</td>\n",
       "      <td>Colemanmouth, DO</td>\n",
       "      <td>POS Terminal</td>\n",
       "      <td>False</td>\n",
       "      <td>117</td>\n",
       "      <td>5</td>\n",
       "      <td>25410.68</td>\n",
       "      <td>False</td>\n",
       "      <td>0</td>\n",
       "    </tr>\n",
       "    <tr>\n",
       "      <th>1</th>\n",
       "      <td>TX0000001</td>\n",
       "      <td>CUST9394</td>\n",
       "      <td>2025-03-08T13:03:05</td>\n",
       "      <td>91473.49</td>\n",
       "      <td>USD</td>\n",
       "      <td>Travel</td>\n",
       "      <td>ATM Withdrawal</td>\n",
       "      <td>True</td>\n",
       "      <td>13</td>\n",
       "      <td>Saturday</td>\n",
       "      <td>Smithshire, VC</td>\n",
       "      <td>Mobile</td>\n",
       "      <td>False</td>\n",
       "      <td>2</td>\n",
       "      <td>4</td>\n",
       "      <td>17124.17</td>\n",
       "      <td>False</td>\n",
       "      <td>0</td>\n",
       "    </tr>\n",
       "    <tr>\n",
       "      <th>2</th>\n",
       "      <td>TX0000002</td>\n",
       "      <td>CUST8434</td>\n",
       "      <td>2025-05-21T16:03:26</td>\n",
       "      <td>23754.75</td>\n",
       "      <td>INR</td>\n",
       "      <td>Travel</td>\n",
       "      <td>ATM Withdrawal</td>\n",
       "      <td>True</td>\n",
       "      <td>16</td>\n",
       "      <td>Wednesday</td>\n",
       "      <td>West Kathrynchester, SL</td>\n",
       "      <td>Desktop</td>\n",
       "      <td>False</td>\n",
       "      <td>78</td>\n",
       "      <td>3</td>\n",
       "      <td>1038.73</td>\n",
       "      <td>False</td>\n",
       "      <td>0</td>\n",
       "    </tr>\n",
       "  </tbody>\n",
       "</table>\n",
       "</div>"
      ],
      "text/plain": [
       "  TransactionID CustomerID TransactionTimestamp    Amount Currency  \\\n",
       "0     TX0000000   CUST3000  2025-04-23T19:10:22  95148.43      INR   \n",
       "1     TX0000001   CUST9394  2025-03-08T13:03:05  91473.49      USD   \n",
       "2     TX0000002   CUST8434  2025-05-21T16:03:26  23754.75      INR   \n",
       "\n",
       "  MerchantCategory TransactionType  CardPresent  HourOfDay  DayOfWeek  \\\n",
       "0             Fuel             POS         True         19  Wednesday   \n",
       "1           Travel  ATM Withdrawal         True         13   Saturday   \n",
       "2           Travel  ATM Withdrawal         True         16  Wednesday   \n",
       "\n",
       "               GeoLocation    DeviceType  IsInternational  \\\n",
       "0         Colemanmouth, DO  POS Terminal            False   \n",
       "1           Smithshire, VC        Mobile            False   \n",
       "2  West Kathrynchester, SL       Desktop            False   \n",
       "\n",
       "   CustomerTenureMonths  NumTransactionsLast24h  AvgTransactionAmount7d  \\\n",
       "0                   117                       5                25410.68   \n",
       "1                     2                       4                17124.17   \n",
       "2                    78                       3                 1038.73   \n",
       "\n",
       "   IsNewDevice  IsFraud  \n",
       "0        False        0  \n",
       "1        False        0  \n",
       "2        False        0  "
      ]
     },
     "execution_count": 3,
     "metadata": {},
     "output_type": "execute_result"
    }
   ],
   "source": [
    "df = pd.read_csv('credit_card_fraud_dataset.csv')\n",
    "df.head(3)"
   ]
  },
  {
   "cell_type": "code",
   "execution_count": 5,
   "id": "b47b6e62",
   "metadata": {},
   "outputs": [],
   "source": [
    "data = df.to_dict(orient = 'records')"
   ]
  },
  {
   "cell_type": "code",
   "execution_count": null,
   "id": "6eb028e4",
   "metadata": {},
   "outputs": [],
   "source": [
    "DD_NAME = \"Credit-Card-Data\"\n",
    "COLLECTION_NAME = \" creditcard\"\n",
    "CONNECTION_URL = \"add-url\""
   ]
  },
  {
   "cell_type": "code",
   "execution_count": 7,
   "id": "b5806221",
   "metadata": {},
   "outputs": [],
   "source": [
    "client = pymongo.MongoClient(CONNECTION_URL)\n",
    "data_base = client[DD_NAME]\n",
    "collection = data_base[COLLECTION_NAME]"
   ]
  },
  {
   "cell_type": "code",
   "execution_count": 8,
   "id": "73ba6f2d",
   "metadata": {},
   "outputs": [],
   "source": [
    "rec = collection.insert_many(data)"
   ]
  },
  {
   "cell_type": "code",
   "execution_count": 9,
   "id": "2ec43d47",
   "metadata": {},
   "outputs": [
    {
     "name": "stdout",
     "output_type": "stream",
     "text": [
      "<class 'pymongo.results.InsertManyResult'>\n"
     ]
    }
   ],
   "source": [
    "print(type(rec))"
   ]
  }
 ],
 "metadata": {
  "kernelspec": {
   "display_name": "smartfraudx",
   "language": "python",
   "name": "python3"
  },
  "language_info": {
   "codemirror_mode": {
    "name": "ipython",
    "version": 3
   },
   "file_extension": ".py",
   "mimetype": "text/x-python",
   "name": "python",
   "nbconvert_exporter": "python",
   "pygments_lexer": "ipython3",
   "version": "3.10.18"
  }
 },
 "nbformat": 4,
 "nbformat_minor": 5
}
